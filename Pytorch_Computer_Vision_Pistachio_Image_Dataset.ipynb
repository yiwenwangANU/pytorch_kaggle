{
  "nbformat": 4,
  "nbformat_minor": 0,
  "metadata": {
    "colab": {
      "provenance": [],
      "gpuType": "T4",
      "authorship_tag": "ABX9TyMr4wlE0+0bulRYkXcTYQFM",
      "include_colab_link": true
    },
    "kernelspec": {
      "name": "python3",
      "display_name": "Python 3"
    },
    "language_info": {
      "name": "python"
    },
    "accelerator": "GPU"
  },
  "cells": [
    {
      "cell_type": "markdown",
      "metadata": {
        "id": "view-in-github",
        "colab_type": "text"
      },
      "source": [
        "<a href=\"https://colab.research.google.com/github/yiwenwangANU/pytorch_kaggle/blob/main/Pytorch_Computer_Vision_Pistachio_Image_Dataset.ipynb\" target=\"_parent\"><img src=\"https://colab.research.google.com/assets/colab-badge.svg\" alt=\"Open In Colab\"/></a>"
      ]
    },
    {
      "cell_type": "markdown",
      "source": [
        "#Data download and explore"
      ],
      "metadata": {
        "id": "L-gSoPQkyevO"
      }
    },
    {
      "cell_type": "code",
      "execution_count": 1,
      "metadata": {
        "colab": {
          "base_uri": "https://localhost:8080/"
        },
        "id": "IO3wgLY3TSMP",
        "outputId": "ef748b4a-deaa-4758-b66c-755273f153fd"
      },
      "outputs": [
        {
          "output_type": "stream",
          "name": "stdout",
          "text": [
            "Downloading from https://www.kaggle.com/api/v1/datasets/download/muratkokludataset/pistachio-image-dataset?dataset_version_number=1...\n"
          ]
        },
        {
          "output_type": "stream",
          "name": "stderr",
          "text": [
            "100%|██████████| 26.7M/26.7M [00:00<00:00, 28.0MB/s]"
          ]
        },
        {
          "output_type": "stream",
          "name": "stdout",
          "text": [
            "Extracting files...\n"
          ]
        },
        {
          "output_type": "stream",
          "name": "stderr",
          "text": [
            "\n"
          ]
        },
        {
          "output_type": "stream",
          "name": "stdout",
          "text": [
            "Path to dataset files: /root/.cache/kagglehub/datasets/muratkokludataset/pistachio-image-dataset/versions/1\n"
          ]
        }
      ],
      "source": [
        "import kagglehub\n",
        "\n",
        "# Download latest version\n",
        "path = kagglehub.dataset_download(\"muratkokludataset/pistachio-image-dataset\")\n",
        "\n",
        "print(\"Path to dataset files:\", path)"
      ]
    },
    {
      "cell_type": "code",
      "source": [
        "import torch\n",
        "device = 'cuda' if torch.cuda.is_available() else 'cpu'\n",
        "device"
      ],
      "metadata": {
        "colab": {
          "base_uri": "https://localhost:8080/",
          "height": 35
        },
        "id": "oFppDmgPFEFj",
        "outputId": "de864175-24c6-4cca-9078-554a493884aa"
      },
      "execution_count": 2,
      "outputs": [
        {
          "output_type": "execute_result",
          "data": {
            "text/plain": [
              "'cuda'"
            ],
            "application/vnd.google.colaboratory.intrinsic+json": {
              "type": "string"
            }
          },
          "metadata": {},
          "execution_count": 2
        }
      ]
    },
    {
      "cell_type": "code",
      "source": [
        "import os\n",
        "print(os.listdir(path))"
      ],
      "metadata": {
        "colab": {
          "base_uri": "https://localhost:8080/"
        },
        "id": "IfzXjBVITWvt",
        "outputId": "4743be89-5272-4391-b30f-8f313b44fe33"
      },
      "execution_count": 3,
      "outputs": [
        {
          "output_type": "stream",
          "name": "stdout",
          "text": [
            "['Pistachio_Image_Dataset']\n"
          ]
        }
      ]
    },
    {
      "cell_type": "code",
      "source": [
        "for root, dirs, files in os.walk(path):\n",
        "    print(f\"Current Directory: {root}\")\n",
        "    print(f\"Subdirectories: {dirs}\")\n",
        "    print(f\"Files: {files}\")\n",
        "    print(\"-\" * 40)"
      ],
      "metadata": {
        "colab": {
          "base_uri": "https://localhost:8080/"
        },
        "id": "5kvPq-Zf0v63",
        "outputId": "7d294e54-2ce3-454b-f37e-73802e96ce6f"
      },
      "execution_count": 4,
      "outputs": [
        {
          "output_type": "stream",
          "name": "stdout",
          "text": [
            "Current Directory: /root/.cache/kagglehub/datasets/muratkokludataset/pistachio-image-dataset/versions/1\n",
            "Subdirectories: ['Pistachio_Image_Dataset']\n",
            "Files: []\n",
            "----------------------------------------\n",
            "Current Directory: /root/.cache/kagglehub/datasets/muratkokludataset/pistachio-image-dataset/versions/1/Pistachio_Image_Dataset\n",
            "Subdirectories: ['Pistachio_Image_Dataset', 'Pistachio_28_Features_Dataset', 'Pistachio_16_Features_Dataset']\n",
            "Files: ['Pistachio_Image_Dataset_Request.txt']\n",
            "----------------------------------------\n",
            "Current Directory: /root/.cache/kagglehub/datasets/muratkokludataset/pistachio-image-dataset/versions/1/Pistachio_Image_Dataset/Pistachio_Image_Dataset\n",
            "Subdirectories: ['Siirt_Pistachio', 'Kirmizi_Pistachio']\n",
            "Files: ['Pistachio_Image_Dataset_Request.txt']\n",
            "----------------------------------------\n",
            "Current Directory: /root/.cache/kagglehub/datasets/muratkokludataset/pistachio-image-dataset/versions/1/Pistachio_Image_Dataset/Pistachio_Image_Dataset/Siirt_Pistachio\n",
            "Subdirectories: []\n",
            "Files: ['siirt 180.jpg', 'siirt 251.jpg', 'siirt 718.jpg', 'siirt 195.jpg', 'siirt 663.jpg', 'siirt 688.jpg', 'siirt 692.jpg', 'siirt 175.jpg', 'siirt 768.jpg', 'siirt 252.jpg', 'siirt 822.jpg', 'siirt 256.jpg', 'siirt 277.jpg', 'siirt 122.jpg', 'siirt 816.jpg', 'siirt 270.jpg', 'siirt 840.jpg', 'siirt 570.jpg', 'siirt 322.jpg', 'siirt 796.jpg', 'siirt 680.jpg', 'siirt (49).jpg', 'siirt 309.jpg', 'siirt 671.jpg', 'siirt 329.jpg', 'siirt 243.jpg', 'siirt 460.jpg', 'siirt 835.jpg', 'siirt 706.jpg', 'siirt 569.jpg', 'siirt 394.jpg', 'siirt 190.jpg', 'siirt 33.jpg', 'siirt 808.jpg', 'siirt 404.jpg', 'siirt 815.jpg', 'siirt 833.jpg', 'siirt 699.jpg', 'siirt 118.jpg', 'siirt 597.jpg', 'siirt 74.jpg', 'siirt 181.jpg', 'siirt 544.jpg', 'siirt 753.jpg', 'siirt 624.jpg', 'siirt 35.jpg', 'siirt 464.jpg', 'siirt 344.jpg', 'siirt 745.jpg', 'siirt 409.jpg', 'siirt (38).jpg', 'siirt 506.jpg', 'siirt 466.jpg', 'siirt 246.jpg', 'siirt 386.jpg', 'siirt 306.jpg', 'siirt (12).jpg', 'siirt 861.jpg', 'siirt 289.jpg', 'siirt 584.jpg', 'siirt 586.jpg', 'siirt 415.jpg', 'siirt 395.jpg', 'siirt 297.jpg', 'siirt 268.jpg', 'siirt 443.jpg', 'siirt 88.jpg', 'siirt 310.jpg', 'siirt 290.jpg', 'siirt 632.jpg', 'siirt 414.jpg', 'siirt 802.jpg', 'siirt 108.jpg', 'siirt 85.jpg', 'siirt 864.jpg', 'siirt 839.jpg', 'siirt 535.jpg', 'siirt 769.jpg', 'siirt 338.jpg', 'siirt 49.jpg', 'siirt 838.jpg', 'siirt 623.jpg', 'siirt 106.jpg', 'siirt 244.jpg', 'siirt 447.jpg', 'siirt 592.jpg', 'siirt 285.jpg', 'siirt 788.jpg', 'siirt 179.jpg', 'siirt 186.jpg', 'siirt 587.jpg', 'siirt 59.jpg', 'siirt 614.jpg', 'siirt 54.jpg', 'siirt 367.jpg', 'siirt 578.jpg', 'siirt 555.jpg', 'siirt 755.jpg', 'siirt 527.jpg', 'siirt (10).jpg', 'siirt 221.jpg', 'siirt 681.jpg', 'siirt 14.jpg', 'siirt 91.jpg', 'siirt 729.jpg', 'siirt 704.jpg', 'siirt 695.jpg', 'siirt 579.jpg', 'siirt 7.jpg', 'siirt 97.jpg', 'siirt 710.jpg', 'siirt 398.jpg', 'siirt 86.jpg', 'siirt 849.jpg', 'siirt 600.jpg', 'siirt 777.jpg', 'siirt 830.jpg', 'siirt 67.jpg', 'siirt (21).jpg', 'siirt 152.jpg', 'siirt 73.jpg', 'siirt 474.jpg', 'siirt 775.jpg', 'siirt 826.jpg', 'siirt (22).jpg', 'siirt 834.jpg', 'siirt 515.jpg', 'siirt 339.jpg', 'siirt 107.jpg', 'siirt (30).jpg', 'siirt 697.jpg', 'siirt 567.jpg', 'siirt (44).jpg', 'siirt 595.jpg', 'siirt 258.jpg', 'siirt 176.jpg', 'siirt 272.jpg', 'siirt 719.jpg', 'siirt 77.jpg', 'siirt 865.jpg', 'siirt 24.jpg', 'siirt 492.jpg', 'siirt 650.jpg', 'siirt 393.jpg', 'siirt 223.jpg', 'siirt 345.jpg', 'siirt 300.jpg', 'siirt 117.jpg', 'siirt 207.jpg', 'siirt 196.jpg', 'siirt 419.jpg', 'siirt 170.jpg', 'siirt 722.jpg', 'siirt 424.jpg', 'siirt 331.jpg', 'siirt 554.jpg', 'siirt 821.jpg', 'siirt 353.jpg', 'siirt 848.jpg', 'siirt 350.jpg', 'siirt 259.jpg', 'siirt 513.jpg', 'siirt 593.jpg', 'siirt 538.jpg', 'siirt 530.jpg', 'siirt 21.jpg', 'siirt 286.jpg', 'siirt (25).jpg', 'siirt (28).jpg', 'siirt 399.jpg', 'siirt 58.jpg', 'siirt 562.jpg', 'siirt (7).jpg', 'siirt 149.jpg', 'siirt 629.jpg', 'siirt 625.jpg', 'siirt 606.jpg', 'siirt 126.jpg', 'siirt 127.jpg', 'siirt (29).jpg', 'siirt 757.jpg', 'siirt 844.jpg', 'siirt 503.jpg', 'siirt 500.jpg', 'siirt 422.jpg', 'siirt 647.jpg', 'siirt 829.jpg', 'siirt 307.jpg', 'siirt 230.jpg', 'siirt 548.jpg', 'siirt 44.jpg', 'siirt 675.jpg', 'siirt 351.jpg', 'siirt 646.jpg', 'siirt 588.jpg', 'siirt 384.jpg', 'siirt 618.jpg', 'siirt 764.jpg', 'siirt 430.jpg', 'siirt 452.jpg', 'siirt 28.jpg', 'siirt 303.jpg', 'siirt 730.jpg', 'siirt 465.jpg', 'siirt 43.jpg', 'siirt 368.jpg', 'siirt 155.jpg', 'siirt 445.jpg', 'siirt 390.jpg', 'siirt 201.jpg', 'siirt 93.jpg', 'siirt 358.jpg', 'siirt 76.jpg', 'siirt 633.jpg', 'siirt 129.jpg', 'siirt 184.jpg', 'siirt 759.jpg', 'siirt 640.jpg', 'siirt 385.jpg', 'siirt 763.jpg', 'siirt 372.jpg', 'siirt (4).jpg', 'siirt 785.jpg', 'siirt 360.jpg', 'siirt 208.jpg', 'siirt 542.jpg', 'siirt 522.jpg', 'siirt 494.jpg', 'siirt 298.jpg', 'siirt 475.jpg', 'siirt 674.jpg', 'siirt 325.jpg', 'siirt 200.jpg', 'siirt 18.jpg', 'siirt 842.jpg', 'siirt 276.jpg', 'siirt 420.jpg', 'siirt 749.jpg', 'siirt 582.jpg', 'siirt 232.jpg', 'siirt 702.jpg', 'siirt 550.jpg', 'siirt 612.jpg', 'siirt 267.jpg', 'siirt 716.jpg', 'siirt 371.jpg', 'siirt 182.jpg', 'siirt 510.jpg', 'siirt 199.jpg', 'siirt 473.jpg', 'siirt 547.jpg', 'siirt 553.jpg', 'siirt 215.jpg', 'siirt 158.jpg', 'siirt 693.jpg', 'siirt 639.jpg', 'siirt 478.jpg', 'siirt 436.jpg', 'siirt 521.jpg', 'siirt 742.jpg', 'siirt 280.jpg', 'siirt 130.jpg', 'siirt 621.jpg', 'siirt 703.jpg', 'siirt 458.jpg', 'siirt (50).jpg', 'siirt 611.jpg', 'siirt 723.jpg', 'siirt 234.jpg', 'siirt 748.jpg', 'siirt 66.jpg', 'siirt 283.jpg', 'siirt (42).jpg', 'siirt 241.jpg', 'siirt 110.jpg', 'siirt 479.jpg', 'siirt 314.jpg', 'siirt 356.jpg', 'siirt 758.jpg', 'siirt 780.jpg', 'siirt 859.jpg', 'siirt 102.jpg', 'siirt 571.jpg', 'siirt 660.jpg', 'siirt 120.jpg', 'siirt 853.jpg', 'siirt 779.jpg', 'siirt 850.jpg', 'siirt 264.jpg', 'siirt 855.jpg', 'siirt 566.jpg', 'siirt 638.jpg', 'siirt 288.jpg', 'siirt 312.jpg', 'siirt 804.jpg', 'siirt 9.jpg', 'siirt 354.jpg', 'siirt 154.jpg', 'siirt 173.jpg', 'siirt 177.jpg', 'siirt 4.jpg', 'siirt 741.jpg', 'siirt 50.jpg', 'siirt 705.jpg', 'siirt 278.jpg', 'siirt 686.jpg', 'siirt 482.jpg', 'siirt 724.jpg', 'siirt 846.jpg', 'siirt 637.jpg', 'siirt 489.jpg', 'siirt 683.jpg', 'siirt (36).jpg', 'siirt 721.jpg', 'siirt 374.jpg', 'siirt 319.jpg', 'siirt 613.jpg', 'siirt 6.jpg', 'siirt 174.jpg', 'siirt (26).jpg', 'siirt 205.jpg', 'siirt 691.jpg', 'siirt 761.jpg', 'siirt 734.jpg', 'siirt 65.jpg', 'siirt 468.jpg', 'siirt 143.jpg', 'siirt 518.jpg', 'siirt 525.jpg', 'siirt 476.jpg', 'siirt 505.jpg', 'siirt (15).jpg', 'siirt 498.jpg', 'siirt 456.jpg', 'siirt 852.jpg', 'siirt 576.jpg', 'siirt 529.jpg', 'siirt 441.jpg', 'siirt (48).jpg', 'siirt 355.jpg', 'siirt 333.jpg', 'siirt 94.jpg', 'siirt 531.jpg', 'siirt 504.jpg', 'siirt 781.jpg', 'siirt 25.jpg', 'siirt 136.jpg', 'siirt 376.jpg', 'siirt 302.jpg', 'siirt 556.jpg', 'siirt 189.jpg', 'siirt 209.jpg', 'siirt 323.jpg', 'siirt 92.jpg', 'siirt 536.jpg', 'siirt (14).jpg', 'siirt 828.jpg', 'siirt 16.jpg', 'siirt 172.jpg', 'siirt 32.jpg', 'siirt 847.jpg', 'siirt 423.jpg', 'siirt 751.jpg', 'siirt 20.jpg', 'siirt 770.jpg', 'siirt 602.jpg', 'siirt 794.jpg', 'siirt 488.jpg', 'siirt 299.jpg', 'siirt 48.jpg', 'siirt 269.jpg', 'siirt 591.jpg', 'siirt 337.jpg', 'siirt 620.jpg', 'siirt 121.jpg', 'siirt 682.jpg', 'siirt 89.jpg', 'siirt 481.jpg', 'siirt 346.jpg', 'siirt 714.jpg', 'siirt 790.jpg', 'siirt 765.jpg', 'siirt 150.jpg', 'siirt 760.jpg', 'siirt 157.jpg', 'siirt 733.jpg', 'siirt 728.jpg', 'siirt 257.jpg', 'siirt 737.jpg', 'siirt 348.jpg', 'siirt 144.jpg', 'siirt 432.jpg', 'siirt 313.jpg', 'siirt 823.jpg', 'siirt 17.jpg', 'siirt 193.jpg', 'siirt 807.jpg', 'siirt 87.jpg', 'siirt 392.jpg', 'siirt (2).jpg', 'siirt 463.jpg', 'siirt 750.jpg', 'siirt 483.jpg', 'siirt 349.jpg', 'siirt 605.jpg', 'siirt 496.jpg', 'siirt 744.jpg', 'siirt 400.jpg', 'siirt 281.jpg', 'siirt 635.jpg', 'siirt 841.jpg', 'siirt 198.jpg', 'siirt 328.jpg', 'siirt 499.jpg', 'siirt 800.jpg', 'siirt 772.jpg', 'siirt 274.jpg', 'siirt 416.jpg', 'siirt 315.jpg', 'siirt 589.jpg', 'siirt 320.jpg', 'siirt 330.jpg', 'siirt 228.jpg', 'siirt 222.jpg', 'siirt 607.jpg', 'siirt 575.jpg', 'siirt 11.jpg', 'siirt 448.jpg', 'siirt (39).jpg', 'siirt 38.jpg', 'siirt 687.jpg', 'siirt 411.jpg', 'siirt 301.jpg', 'siirt 798.jpg', 'siirt 491.jpg', 'siirt 311.jpg', 'siirt 437.jpg', 'siirt 114.jpg', 'siirt 332.jpg', 'siirt 236.jpg', 'siirt 402.jpg', 'siirt 797.jpg', 'siirt 564.jpg', 'siirt 717.jpg', 'siirt 665.jpg', 'siirt 471.jpg', 'siirt 789.jpg', 'siirt 141.jpg', 'siirt 42.jpg', 'siirt 574.jpg', 'siirt 31.jpg', 'siirt 30.jpg', 'siirt 45.jpg', 'siirt 197.jpg', 'siirt 125.jpg', 'siirt 739.jpg', 'siirt 455.jpg', 'siirt 116.jpg', 'siirt 819.jpg', 'siirt 811.jpg', 'siirt 113.jpg', 'siirt 866.jpg', 'siirt 146.jpg', 'siirt 363.jpg', 'siirt 572.jpg', 'siirt (32).jpg', 'siirt 616.jpg', 'siirt 707.jpg', 'siirt 137.jpg', 'siirt 109.jpg', 'siirt 22.jpg', 'siirt 533.jpg', 'siirt 813.jpg', 'siirt 731.jpg', 'siirt 115.jpg', 'siirt 405.jpg', 'siirt 340.jpg', 'siirt 99.jpg', 'siirt 134.jpg', 'siirt 52.jpg', 'siirt 836.jpg', 'siirt 425.jpg', 'siirt 142.jpg', 'siirt 825.jpg', 'siirt 60.jpg', 'siirt 135.jpg', 'siirt 684.jpg', 'siirt 203.jpg', 'siirt 568.jpg', 'siirt 641.jpg', 'siirt 752.jpg', 'siirt 446.jpg', 'siirt 417.jpg', 'siirt 254.jpg', 'siirt 165.jpg', 'siirt 123.jpg', 'siirt 792.jpg', 'siirt 603.jpg', 'siirt 746.jpg', 'siirt 160.jpg', 'siirt 560.jpg', 'siirt 271.jpg', 'siirt 484.jpg', 'siirt 596.jpg', 'siirt 178.jpg', 'siirt 831.jpg', 'siirt 78.jpg', 'siirt 863.jpg', 'siirt 57.jpg', 'siirt 534.jpg', 'siirt 382.jpg', 'siirt 856.jpg', 'siirt 563.jpg', 'siirt 164.jpg', 'siirt 71.jpg', 'siirt 469.jpg', 'siirt 583.jpg', 'siirt 541.jpg', 'siirt 559.jpg', 'siirt 139.jpg', 'siirt 832.jpg', 'siirt 651.jpg', 'siirt 10.jpg', 'siirt 774.jpg', 'siirt 433.jpg', 'siirt 713.jpg', 'siirt 667.jpg', 'siirt (45).jpg', 'siirt 725.jpg', 'siirt 204.jpg', 'siirt 388.jpg', 'siirt 36.jpg', 'siirt 226.jpg', 'siirt 619.jpg', 'siirt 502.jpg', 'siirt 90.jpg', 'siirt 817.jpg', 'siirt 435.jpg', 'siirt 188.jpg', 'siirt 83.jpg', 'siirt 801.jpg', 'siirt 261.jpg', 'siirt 213.jpg', 'siirt 72.jpg', 'siirt 220.jpg', 'siirt 98.jpg', 'siirt 818.jpg', 'siirt 293.jpg', 'siirt 167.jpg', 'siirt 156.jpg', 'siirt 406.jpg', 'siirt 668.jpg', 'siirt 3.jpg', 'siirt 649.jpg', 'siirt 61.jpg', 'siirt 187.jpg', 'siirt 766.jpg', 'siirt 532.jpg', 'siirt 806.jpg', 'siirt 2.jpg', 'siirt 104.jpg', 'siirt 100.jpg', 'siirt (41).jpg', 'siirt 373.jpg', 'siirt 782.jpg', 'siirt 630.jpg', 'siirt 451.jpg', 'siirt 227.jpg', 'siirt 626.jpg', 'siirt 862.jpg', 'siirt 735.jpg', 'siirt 211.jpg', 'siirt 573.jpg', 'siirt 253.jpg', 'siirt 493.jpg', 'siirt 454.jpg', 'siirt 669.jpg', 'siirt 342.jpg', 'siirt 470.jpg', 'siirt 520.jpg', 'siirt 486.jpg', 'siirt 147.jpg', 'siirt 133.jpg', 'siirt 291.jpg', 'siirt (5).jpg', 'siirt 296.jpg', 'siirt 161.jpg', 'siirt 397.jpg', 'siirt 247.jpg', 'siirt 308.jpg', 'siirt 652.jpg', 'siirt 700.jpg', 'siirt 318.jpg', 'siirt 610.jpg', 'siirt 295.jpg', 'siirt 40.jpg', 'siirt 183.jpg', 'siirt 240.jpg', 'siirt 194.jpg', 'siirt 450.jpg', 'siirt 260.jpg', 'siirt 442.jpg', 'siirt 326.jpg', 'siirt 1.jpg', 'siirt 485.jpg', 'siirt 217.jpg', 'siirt 403.jpg', 'siirt (31).jpg', 'siirt 549.jpg', 'siirt 643.jpg', 'siirt 162.jpg', 'siirt 229.jpg', 'siirt 512.jpg', 'siirt 64.jpg', 'siirt 365.jpg', 'siirt 636.jpg', 'siirt 631.jpg', 'siirt 69.jpg', 'siirt 580.jpg', 'siirt 670.jpg', 'siirt 410.jpg', 'siirt (19).jpg', 'siirt 685.jpg', 'siirt 79.jpg', 'siirt 634.jpg', 'siirt 427.jpg', 'siirt 601.jpg', 'siirt 96.jpg', 'siirt 39.jpg', 'siirt (8).jpg', 'siirt 666.jpg', 'siirt 275.jpg', 'siirt 53.jpg', 'siirt 341.jpg', 'siirt 377.jpg', 'siirt 594.jpg', 'siirt 773.jpg', 'siirt 698.jpg', 'siirt (3).jpg', 'siirt 501.jpg', 'siirt 784.jpg', 'siirt 740.jpg', 'siirt 577.jpg', 'siirt 679.jpg', 'siirt 255.jpg', 'siirt 786.jpg', 'siirt 477.jpg', 'siirt 352.jpg', 'siirt 13.jpg', 'siirt (35).jpg', 'siirt 627.jpg', 'siirt 84.jpg', 'siirt 457.jpg', 'siirt 119.jpg', 'siirt 428.jpg', 'siirt 720.jpg', 'siirt 557.jpg', 'siirt 233.jpg', 'siirt 389.jpg', 'siirt (33).jpg', 'siirt (37).jpg', 'siirt 809.jpg', 'siirt (1).jpg', 'siirt (11).jpg', 'siirt 487.jpg', 'siirt 225.jpg', 'siirt (9).jpg', 'siirt 609.jpg', 'siirt 361.jpg', 'siirt 558.jpg', 'siirt 23.jpg', 'siirt 148.jpg', 'siirt 449.jpg', 'siirt 380.jpg', 'siirt 132.jpg', 'siirt 239.jpg', 'siirt 70.jpg', 'siirt 645.jpg', 'siirt 111.jpg', 'siirt 80.jpg', 'siirt 590.jpg', 'siirt 169.jpg', 'siirt 519.jpg', 'siirt 523.jpg', 'siirt 810.jpg', 'siirt 648.jpg', 'siirt 362.jpg', 'siirt (27).jpg', 'siirt 273.jpg', 'siirt 756.jpg', 'siirt 701.jpg', 'siirt 528.jpg', 'siirt 743.jpg', 'siirt 747.jpg', 'siirt 622.jpg', 'siirt 726.jpg', 'siirt 375.jpg', 'siirt 655.jpg', 'siirt 163.jpg', 'siirt 727.jpg', 'siirt 124.jpg', 'siirt 495.jpg', 'siirt 235.jpg', 'siirt 366.jpg', 'siirt 55.jpg', 'siirt 408.jpg', 'siirt 370.jpg', 'siirt 585.jpg', 'siirt 426.jpg', 'siirt 673.jpg', 'siirt 401.jpg', 'siirt 140.jpg', 'siirt 690.jpg', 'siirt 47.jpg', 'siirt 34.jpg', 'siirt 439.jpg', 'siirt (17).jpg', 'siirt (40).jpg', 'siirt 327.jpg', 'siirt 284.jpg', 'siirt 696.jpg', 'siirt 599.jpg', 'siirt 537.jpg', 'siirt 216.jpg', 'siirt 381.jpg', 'siirt 412.jpg', 'siirt 334.jpg', 'siirt 771.jpg', 'siirt 218.jpg', 'siirt 407.jpg', 'siirt 112.jpg', 'siirt 391.jpg', 'siirt 526.jpg', 'siirt 29.jpg', 'siirt 231.jpg', 'siirt 851.jpg', 'siirt 378.jpg', 'siirt 292.jpg', 'siirt 615.jpg', 'siirt 598.jpg', 'siirt 434.jpg', 'siirt 68.jpg', 'siirt 279.jpg', 'siirt 429.jpg', 'siirt 131.jpg', 'siirt 551.jpg', 'siirt 709.jpg', 'siirt 46.jpg', 'siirt 51.jpg', 'siirt 262.jpg', 'siirt 192.jpg', 'siirt 369.jpg', 'siirt 843.jpg', 'siirt 462.jpg', 'siirt 387.jpg', 'siirt (43).jpg', 'siirt 565.jpg', 'siirt 642.jpg', 'siirt 224.jpg', 'siirt 712.jpg', 'siirt 317.jpg', 'siirt 166.jpg', 'siirt (6).jpg', 'siirt 248.jpg', 'siirt 185.jpg', 'siirt 472.jpg', 'siirt 827.jpg', 'siirt 514.jpg', 'siirt 628.jpg', 'siirt 659.jpg', 'siirt 732.jpg', 'siirt 438.jpg', 'siirt 250.jpg', 'siirt 617.jpg', 'siirt 490.jpg', 'siirt 105.jpg', 'siirt (20).jpg', 'siirt 81.jpg', 'siirt 715.jpg', 'siirt 783.jpg', 'siirt 249.jpg', 'siirt 694.jpg', 'siirt 26.jpg', 'siirt 814.jpg', 'siirt 858.jpg', 'siirt 15.jpg', 'siirt 791.jpg', 'siirt 778.jpg', 'siirt (24).jpg', 'siirt 459.jpg', 'siirt 128.jpg', 'siirt 282.jpg', 'siirt 396.jpg', 'siirt 799.jpg', 'siirt (13).jpg', 'siirt 242.jpg', 'siirt 294.jpg', 'siirt 795.jpg', 'siirt 854.jpg', 'siirt 237.jpg', 'siirt 787.jpg', 'siirt 171.jpg', 'siirt 677.jpg', 'siirt 5.jpg', 'siirt 654.jpg', 'siirt 101.jpg', 'siirt 857.jpg', 'siirt 336.jpg', 'siirt 803.jpg', 'siirt 287.jpg', 'siirt 214.jpg', 'siirt 509.jpg', 'siirt 168.jpg', 'siirt 27.jpg', 'siirt 539.jpg', 'siirt 736.jpg', 'siirt 75.jpg', 'siirt 304.jpg', 'siirt 151.jpg', 'siirt 413.jpg', 'siirt 508.jpg', 'siirt 238.jpg', 'siirt (16).jpg', 'siirt 517.jpg', 'siirt 12.jpg', 'siirt 265.jpg', 'siirt (47).jpg', 'siirt 805.jpg', 'siirt 421.jpg', 'siirt 552.jpg', 'siirt 678.jpg', 'siirt 212.jpg', 'siirt 56.jpg', 'siirt 347.jpg', 'siirt 561.jpg', 'siirt 431.jpg', 'siirt 776.jpg', 'siirt 321.jpg', 'siirt 138.jpg', 'siirt 480.jpg', 'siirt 335.jpg', 'siirt 206.jpg', 'siirt 676.jpg', 'siirt 357.jpg', 'siirt 266.jpg', 'siirt 608.jpg', 'siirt 545.jpg', 'siirt 82.jpg', 'siirt 37.jpg', 'siirt 8.jpg', 'siirt 837.jpg', 'siirt 738.jpg', 'siirt 793.jpg', 'siirt 63.jpg', 'siirt 511.jpg', 'siirt 245.jpg', 'siirt 661.jpg', 'siirt 824.jpg', 'siirt 324.jpg', 'siirt 210.jpg', 'siirt 316.jpg', 'siirt 153.jpg', 'siirt (34).jpg', 'siirt 440.jpg', 'siirt 711.jpg', 'siirt 644.jpg', 'siirt 762.jpg', 'siirt 540.jpg', 'siirt 41.jpg', 'siirt 418.jpg', 'siirt 507.jpg', 'siirt 202.jpg', 'siirt 708.jpg', 'siirt 653.jpg', 'siirt 62.jpg', 'siirt 453.jpg', 'siirt 656.jpg', 'siirt 263.jpg', 'siirt 657.jpg', 'siirt 191.jpg', 'siirt 461.jpg', 'siirt 359.jpg', 'siirt 524.jpg', 'siirt 546.jpg', 'siirt (46).jpg', 'siirt 543.jpg', 'siirt 516.jpg', 'siirt 845.jpg', 'siirt 364.jpg', 'siirt 467.jpg', 'siirt 672.jpg', 'siirt 145.jpg', 'siirt 604.jpg', 'siirt 662.jpg', 'siirt 754.jpg', 'siirt 581.jpg', 'siirt 305.jpg', 'siirt 19.jpg', 'siirt 219.jpg', 'siirt 664.jpg', 'siirt 820.jpg', 'siirt 379.jpg', 'siirt 444.jpg', 'siirt 383.jpg', 'siirt 343.jpg', 'siirt 159.jpg', 'siirt 658.jpg', 'siirt 95.jpg', 'siirt (18).jpg', 'siirt 812.jpg', 'siirt (23).jpg', 'siirt 767.jpg', 'siirt 689.jpg', 'siirt 497.jpg', 'siirt 103.jpg', 'siirt 860.jpg']\n",
            "----------------------------------------\n",
            "Current Directory: /root/.cache/kagglehub/datasets/muratkokludataset/pistachio-image-dataset/versions/1/Pistachio_Image_Dataset/Pistachio_Image_Dataset/Kirmizi_Pistachio\n",
            "Subdirectories: []\n",
            "Files: ['kirmizi 222.jpg', 'kirmizi 641.jpg', 'kirmizi 856.jpg', 'kirmizi 1040.jpg', 'kirmizi (51).jpg', 'kirmizi 733.jpg', 'kirmizi 1038.jpg', 'kirmizi 700.jpg', 'kirmizi 268.jpg', 'kirmizi 399.jpg', 'kirmizi 845.jpg', 'kirmizi 8.jpg', 'kirmizi 578.jpg', 'kirmizi 305.jpg', 'kirmizi (31).jpg', 'kirmizi (42).jpg', 'kirmizi 993.jpg', 'kirmizi 541.jpg', 'kirmizi 713.jpg', 'kirmizi 1126.jpg', 'kirmizi 987.jpg', 'kirmizi 958.jpg', 'kirmizi 769.jpg', 'kirmizi 187.jpg', 'kirmizi (4).jpg', 'kirmizi (16).jpg', 'kirmizi 1135.jpg', 'kirmizi 348.jpg', 'kirmizi 408.jpg', 'kirmizi 444.jpg', 'kirmizi 823.jpg', 'kirmizi 806.jpg', 'kirmizi 1063.jpg', 'kirmizi 498.jpg', 'kirmizi 827.jpg', 'kirmizi 930.jpg', 'kirmizi 1019.jpg', 'kirmizi 426.jpg', 'kirmizi 611.jpg', 'kirmizi 921.jpg', 'kirmizi 70.jpg', 'kirmizi 1118.jpg', 'kirmizi 362.jpg', 'kirmizi 107.jpg', 'kirmizi 26.jpg', 'kirmizi 9.jpg', 'kirmizi 183.jpg', 'kirmizi 415.jpg', 'kirmizi 908.jpg', 'kirmizi 603.jpg', 'kirmizi 542.jpg', 'kirmizi 587.jpg', 'kirmizi 453.jpg', 'kirmizi (43).jpg', 'kirmizi 935.jpg', 'kirmizi 893.jpg', 'kirmizi 663.jpg', 'kirmizi 811.jpg', 'kirmizi 239.jpg', 'kirmizi 546.jpg', 'kirmizi 534.jpg', 'kirmizi 902.jpg', 'kirmizi 667.jpg', 'kirmizi 1150.jpg', 'kirmizi 596.jpg', 'kirmizi 708.jpg', 'kirmizi 202.jpg', 'kirmizi 973.jpg', 'kirmizi 761.jpg', 'kirmizi (18).jpg', 'kirmizi 1054.jpg', 'kirmizi 1071.jpg', 'kirmizi 20.jpg', 'kirmizi 497.jpg', 'kirmizi 153.jpg', 'kirmizi 1117.jpg', 'kirmizi 579.jpg', 'kirmizi 143.jpg', 'kirmizi 476.jpg', 'kirmizi 1133.jpg', 'kirmizi 865.jpg', 'kirmizi 716.jpg', 'kirmizi 627.jpg', 'kirmizi 515.jpg', 'kirmizi 57.jpg', 'kirmizi 440.jpg', 'kirmizi 322.jpg', 'kirmizi 955.jpg', 'kirmizi 128.jpg', 'kirmizi 342.jpg', 'kirmizi 529.jpg', 'kirmizi 1068.jpg', 'kirmizi 847.jpg', 'kirmizi 944.jpg', 'kirmizi 1052.jpg', 'kirmizi 169.jpg', 'kirmizi 519.jpg', 'kirmizi 367.jpg', 'kirmizi 809.jpg', 'kirmizi 922.jpg', 'kirmizi (46).jpg', 'kirmizi 777.jpg', 'kirmizi 539.jpg', 'kirmizi 828.jpg', 'kirmizi 463.jpg', 'kirmizi 266.jpg', 'kirmizi 131.jpg', 'kirmizi 61.jpg', 'kirmizi (54).jpg', 'kirmizi 721.jpg', 'kirmizi 548.jpg', 'kirmizi 394.jpg', 'kirmizi 391.jpg', 'kirmizi 818.jpg', 'kirmizi 982.jpg', 'kirmizi 435.jpg', 'kirmizi 609.jpg', 'kirmizi 798.jpg', 'kirmizi 68.jpg', 'kirmizi 377.jpg', 'kirmizi 1024.jpg', 'kirmizi 784.jpg', 'kirmizi 55.jpg', 'kirmizi 369.jpg', 'kirmizi 59.jpg', 'kirmizi 570.jpg', 'kirmizi 571.jpg', 'kirmizi 281.jpg', 'kirmizi 232.jpg', 'kirmizi 630.jpg', 'kirmizi 1125.jpg', 'kirmizi 681.jpg', 'kirmizi 1018.jpg', 'kirmizi 474.jpg', 'kirmizi 5.jpg', 'kirmizi (41).jpg', 'kirmizi 532.jpg', 'kirmizi 831.jpg', 'kirmizi 522.jpg', 'kirmizi 254.jpg', 'kirmizi 1015.jpg', 'kirmizi 44.jpg', 'kirmizi 7.jpg', 'kirmizi 1025.jpg', 'kirmizi 1103.jpg', 'kirmizi 875.jpg', 'kirmizi (36).jpg', 'kirmizi 813.jpg', 'kirmizi 1000.jpg', 'kirmizi 387.jpg', 'kirmizi 1042.jpg', 'kirmizi 1130.jpg', 'kirmizi 319.jpg', 'kirmizi 911.jpg', 'kirmizi 34.jpg', 'kirmizi 473.jpg', 'kirmizi 21.jpg', 'kirmizi 176.jpg', 'kirmizi 687.jpg', 'kirmizi 166.jpg', 'kirmizi 649.jpg', 'kirmizi 1020.jpg', 'kirmizi 691.jpg', 'kirmizi 1105.jpg', 'kirmizi 382.jpg', 'kirmizi 1053.jpg', 'kirmizi 171.jpg', 'kirmizi 1094.jpg', 'kirmizi 125.jpg', 'kirmizi 100.jpg', 'kirmizi 45.jpg', 'kirmizi (29).jpg', 'kirmizi 138.jpg', 'kirmizi 446.jpg', 'kirmizi 990.jpg', 'kirmizi 1132.jpg', 'kirmizi 226.jpg', 'kirmizi 1016.jpg', 'kirmizi 365.jpg', 'kirmizi 1060.jpg', 'kirmizi 209.jpg', 'kirmizi 36.jpg', 'kirmizi (35).jpg', 'kirmizi 980.jpg', 'kirmizi 887.jpg', 'kirmizi (12).jpg', 'kirmizi 972.jpg', 'kirmizi 90.jpg', 'kirmizi 946.jpg', 'kirmizi 692.jpg', 'kirmizi 852.jpg', 'kirmizi 217.jpg', 'kirmizi 814.jpg', 'kirmizi 676.jpg', 'kirmizi 992.jpg', 'kirmizi 188.jpg', 'kirmizi 1139.jpg', 'kirmizi 1110.jpg', 'kirmizi 25.jpg', 'kirmizi 998.jpg', 'kirmizi 967.jpg', 'kirmizi 470.jpg', 'kirmizi (49).jpg', 'kirmizi 683.jpg', 'kirmizi 32.jpg', 'kirmizi 419.jpg', 'kirmizi 116.jpg', 'kirmizi 173.jpg', 'kirmizi 1079.jpg', 'kirmizi 443.jpg', 'kirmizi 725.jpg', 'kirmizi 1032.jpg', 'kirmizi 434.jpg', 'kirmizi 1141.jpg', 'kirmizi 1136.jpg', 'kirmizi 120.jpg', 'kirmizi 124.jpg', 'kirmizi 264.jpg', 'kirmizi 1131.jpg', 'kirmizi 789.jpg', 'kirmizi 631.jpg', 'kirmizi 375.jpg', 'kirmizi 46.jpg', 'kirmizi 744.jpg', 'kirmizi 861.jpg', 'kirmizi 926.jpg', 'kirmizi 1112.jpg', 'kirmizi 189.jpg', 'kirmizi 1085.jpg', 'kirmizi 298.jpg', 'kirmizi 60.jpg', 'kirmizi 625.jpg', 'kirmizi 835.jpg', 'kirmizi 341.jpg', 'kirmizi 16.jpg', 'kirmizi 722.jpg', 'kirmizi 513.jpg', 'kirmizi 688.jpg', 'kirmizi 759.jpg', 'kirmizi 417.jpg', 'kirmizi 900.jpg', 'kirmizi 418.jpg', 'kirmizi 1167.jpg', 'kirmizi 301.jpg', 'kirmizi 670.jpg', 'kirmizi 1098.jpg', 'kirmizi 170.jpg', 'kirmizi 849.jpg', 'kirmizi 805.jpg', 'kirmizi 884.jpg', 'kirmizi 413.jpg', 'kirmizi (24).jpg', 'kirmizi 552.jpg', 'kirmizi 1115.jpg', 'kirmizi 1106.jpg', 'kirmizi 13.jpg', 'kirmizi 842.jpg', 'kirmizi 218.jpg', 'kirmizi 450.jpg', 'kirmizi 730.jpg', 'kirmizi 452.jpg', 'kirmizi 439.jpg', 'kirmizi 599.jpg', 'kirmizi 1075.jpg', 'kirmizi (7).jpg', 'kirmizi 867.jpg', 'kirmizi 127.jpg', 'kirmizi 1138.jpg', 'kirmizi 42.jpg', 'kirmizi 1033.jpg', 'kirmizi 516.jpg', 'kirmizi 122.jpg', 'kirmizi 855.jpg', 'kirmizi 858.jpg', 'kirmizi 1142.jpg', 'kirmizi (59).jpg', 'kirmizi 236.jpg', 'kirmizi 1104.jpg', 'kirmizi 329.jpg', 'kirmizi 942.jpg', 'kirmizi 1166.jpg', 'kirmizi 4.jpg', 'kirmizi 38.jpg', 'kirmizi (26).jpg', 'kirmizi 566.jpg', 'kirmizi 964.jpg', 'kirmizi 682.jpg', 'kirmizi 197.jpg', 'kirmizi 295.jpg', 'kirmizi 594.jpg', 'kirmizi 590.jpg', 'kirmizi 310.jpg', 'kirmizi 73.jpg', 'kirmizi 674.jpg', 'kirmizi 286.jpg', 'kirmizi 743.jpg', 'kirmizi 480.jpg', 'kirmizi 1001.jpg', 'kirmizi 702.jpg', 'kirmizi 15.jpg', 'kirmizi 364.jpg', 'kirmizi 969.jpg', 'kirmizi 445.jpg', 'kirmizi 272.jpg', 'kirmizi 906.jpg', 'kirmizi 146.jpg', 'kirmizi 1074.jpg', 'kirmizi (44).jpg', 'kirmizi 619.jpg', 'kirmizi (15).jpg', 'kirmizi 216.jpg', 'kirmizi 636.jpg', 'kirmizi 190.jpg', 'kirmizi 374.jpg', 'kirmizi 17.jpg', 'kirmizi 1067.jpg', 'kirmizi 1069.jpg', 'kirmizi 920.jpg', 'kirmizi 405.jpg', 'kirmizi 568.jpg', 'kirmizi 361.jpg', 'kirmizi 63.jpg', 'kirmizi 1083.jpg', 'kirmizi 937.jpg', 'kirmizi 465.jpg', 'kirmizi 396.jpg', 'kirmizi 243.jpg', 'kirmizi 660.jpg', 'kirmizi 873.jpg', 'kirmizi 423.jpg', 'kirmizi 652.jpg', 'kirmizi 561.jpg', 'kirmizi 651.jpg', 'kirmizi 194.jpg', 'kirmizi 703.jpg', 'kirmizi 1161.jpg', 'kirmizi 824.jpg', 'kirmizi 591.jpg', 'kirmizi 398.jpg', 'kirmizi 438.jpg', 'kirmizi 840.jpg', 'kirmizi 412.jpg', 'kirmizi 526.jpg', 'kirmizi 481.jpg', 'kirmizi 457.jpg', 'kirmizi 767.jpg', 'kirmizi 678.jpg', 'kirmizi 235.jpg', 'kirmizi 857.jpg', 'kirmizi 78.jpg', 'kirmizi 983.jpg', 'kirmizi 370.jpg', 'kirmizi 1160.jpg', 'kirmizi 501.jpg', 'kirmizi 981.jpg', 'kirmizi 728.jpg', 'kirmizi 126.jpg', 'kirmizi 346.jpg', 'kirmizi 729.jpg', 'kirmizi 871.jpg', 'kirmizi 193.jpg', 'kirmizi 844.jpg', 'kirmizi 595.jpg', 'kirmizi 484.jpg', 'kirmizi 751.jpg', 'kirmizi (27).jpg', 'kirmizi 755.jpg', 'kirmizi 93.jpg', 'kirmizi 912.jpg', 'kirmizi 816.jpg', 'kirmizi 414.jpg', 'kirmizi 136.jpg', 'kirmizi 273.jpg', 'kirmizi 83.jpg', 'kirmizi 411.jpg', 'kirmizi 715.jpg', 'kirmizi 293.jpg', 'kirmizi 657.jpg', 'kirmizi 1039.jpg', 'kirmizi 306.jpg', 'kirmizi 629.jpg', 'kirmizi 1152.jpg', 'kirmizi 544.jpg', 'kirmizi 518.jpg', 'kirmizi 618.jpg', 'kirmizi 49.jpg', 'kirmizi 230.jpg', 'kirmizi 67.jpg', 'kirmizi 449.jpg', 'kirmizi 113.jpg', 'kirmizi 393.jpg', 'kirmizi 1162.jpg', 'kirmizi 909.jpg', 'kirmizi 359.jpg', 'kirmizi 1013.jpg', 'kirmizi 862.jpg', 'kirmizi 461.jpg', 'kirmizi 952.jpg', 'kirmizi 706.jpg', 'kirmizi 940.jpg', 'kirmizi 1072.jpg', 'kirmizi 758.jpg', 'kirmizi 242.jpg', 'kirmizi 623.jpg', 'kirmizi 560.jpg', 'kirmizi (9).jpg', 'kirmizi 200.jpg', 'kirmizi 109.jpg', 'kirmizi 883.jpg', 'kirmizi 750.jpg', 'kirmizi 250.jpg', 'kirmizi 976.jpg', 'kirmizi 1.jpg', 'kirmizi 82.jpg', 'kirmizi 50.jpg', 'kirmizi 1051.jpg', 'kirmizi 338.jpg', 'kirmizi 1006.jpg', 'kirmizi 492.jpg', 'kirmizi 163.jpg', 'kirmizi 227.jpg', 'kirmizi 562.jpg', 'kirmizi 111.jpg', 'kirmizi 781.jpg', 'kirmizi 839.jpg', 'kirmizi 117.jpg', 'kirmizi 289.jpg', 'kirmizi 1030.jpg', 'kirmizi 271.jpg', 'kirmizi 634.jpg', 'kirmizi 238.jpg', 'kirmizi 467.jpg', 'kirmizi (62).jpg', 'kirmizi 772.jpg', 'kirmizi 975.jpg', 'kirmizi 748.jpg', 'kirmizi 343.jpg', 'kirmizi 482.jpg', 'kirmizi 791.jpg', 'kirmizi 653.jpg', 'kirmizi 724.jpg', 'kirmizi 965.jpg', 'kirmizi 1007.jpg', 'kirmizi 1113.jpg', 'kirmizi 1120.jpg', 'kirmizi 877.jpg', 'kirmizi 648.jpg', 'kirmizi 1122.jpg', 'kirmizi (30).jpg', 'kirmizi 904.jpg', 'kirmizi 487.jpg', 'kirmizi 451.jpg', 'kirmizi 928.jpg', 'kirmizi 664.jpg', 'kirmizi 985.jpg', 'kirmizi 1036.jpg', 'kirmizi 486.jpg', 'kirmizi 1035.jpg', 'kirmizi 956.jpg', 'kirmizi (65).jpg', 'kirmizi 477.jpg', 'kirmizi 1097.jpg', 'kirmizi 355.jpg', 'kirmizi 1026.jpg', 'kirmizi 432.jpg', 'kirmizi (1).jpg', 'kirmizi 259.jpg', 'kirmizi 196.jpg', 'kirmizi 1095.jpg', 'kirmizi 589.jpg', 'kirmizi 696.jpg', 'kirmizi 421.jpg', 'kirmizi 192.jpg', 'kirmizi 698.jpg', 'kirmizi 1146.jpg', 'kirmizi 753.jpg', 'kirmizi 581.jpg', 'kirmizi 573.jpg', 'kirmizi 941.jpg', 'kirmizi 785.jpg', 'kirmizi 510.jpg', 'kirmizi 686.jpg', 'kirmizi 574.jpg', 'kirmizi 582.jpg', 'kirmizi 291.jpg', 'kirmizi 910.jpg', 'kirmizi 327.jpg', 'kirmizi 214.jpg', 'kirmizi 270.jpg', 'kirmizi 416.jpg', 'kirmizi 832.jpg', 'kirmizi 740.jpg', 'kirmizi 212.jpg', 'kirmizi 401.jpg', 'kirmizi 554.jpg', 'kirmizi 947.jpg', 'kirmizi 372.jpg', 'kirmizi 638.jpg', 'kirmizi 261.jpg', 'kirmizi 207.jpg', 'kirmizi 918.jpg', 'kirmizi 491.jpg', 'kirmizi 1101.jpg', 'kirmizi 506.jpg', 'kirmizi 400.jpg', 'kirmizi 707.jpg', 'kirmizi 428.jpg', 'kirmizi 296.jpg', 'kirmizi 628.jpg', 'kirmizi 157.jpg', 'kirmizi 576.jpg', 'kirmizi 376.jpg', 'kirmizi 586.jpg', 'kirmizi 366.jpg', 'kirmizi 1154.jpg', 'kirmizi 796.jpg', 'kirmizi 206.jpg', 'kirmizi 1017.jpg', 'kirmizi 144.jpg', 'kirmizi 1123.jpg', 'kirmizi 48.jpg', 'kirmizi 490.jpg', 'kirmizi 269.jpg', 'kirmizi (61).jpg', 'kirmizi 959.jpg', 'kirmizi (28).jpg', 'kirmizi 1077.jpg', 'kirmizi 104.jpg', 'kirmizi 894.jpg', 'kirmizi 75.jpg', 'kirmizi 864.jpg', 'kirmizi 538.jpg', 'kirmizi 454.jpg', 'kirmizi 709.jpg', 'kirmizi 507.jpg', 'kirmizi 1119.jpg', 'kirmizi 588.jpg', 'kirmizi 693.jpg', 'kirmizi 318.jpg', 'kirmizi 66.jpg', 'kirmizi 757.jpg', 'kirmizi 801.jpg', 'kirmizi 159.jpg', 'kirmizi (22).jpg', 'kirmizi 203.jpg', 'kirmizi 642.jpg', 'kirmizi 711.jpg', 'kirmizi 836.jpg', 'kirmizi 739.jpg', 'kirmizi (64).jpg', 'kirmizi 431.jpg', 'kirmizi 646.jpg', 'kirmizi (25).jpg', 'kirmizi 850.jpg', 'kirmizi 385.jpg', 'kirmizi 699.jpg', 'kirmizi 37.jpg', 'kirmizi 279.jpg', 'kirmizi (21).jpg', 'kirmizi 479.jpg', 'kirmizi 1014.jpg', 'kirmizi 936.jpg', 'kirmizi 821.jpg', 'kirmizi (56).jpg', 'kirmizi 677.jpg', 'kirmizi 804.jpg', 'kirmizi 182.jpg', 'kirmizi 313.jpg', 'kirmizi (58).jpg', 'kirmizi 1022.jpg', 'kirmizi 199.jpg', 'kirmizi 455.jpg', 'kirmizi 695.jpg', 'kirmizi 1045.jpg', 'kirmizi 685.jpg', 'kirmizi 287.jpg', 'kirmizi 180.jpg', 'kirmizi 575.jpg', 'kirmizi 658.jpg', 'kirmizi 459.jpg', 'kirmizi 23.jpg', 'kirmizi 1065.jpg', 'kirmizi 1155.jpg', 'kirmizi 932.jpg', 'kirmizi 330.jpg', 'kirmizi 353.jpg', 'kirmizi 262.jpg', 'kirmizi 665.jpg', 'kirmizi 133.jpg', 'kirmizi 344.jpg', 'kirmizi 903.jpg', 'kirmizi 2.jpg', 'kirmizi (10).jpg', 'kirmizi 860.jpg', 'kirmizi 938.jpg', 'kirmizi 797.jpg', 'kirmizi 164.jpg', 'kirmizi 150.jpg', 'kirmizi 559.jpg', 'kirmizi 762.jpg', 'kirmizi 888.jpg', 'kirmizi 395.jpg', 'kirmizi 943.jpg', 'kirmizi 460.jpg', 'kirmizi 145.jpg', 'kirmizi 103.jpg', 'kirmizi 288.jpg', 'kirmizi 808.jpg', 'kirmizi 745.jpg', 'kirmizi 859.jpg', 'kirmizi 833.jpg', 'kirmizi 165.jpg', 'kirmizi 30.jpg', 'kirmizi 717.jpg', 'kirmizi 379.jpg', 'kirmizi 437.jpg', 'kirmizi 321.jpg', 'kirmizi 215.jpg', 'kirmizi 533.jpg', 'kirmizi 555.jpg', 'kirmizi (5).jpg', 'kirmizi 535.jpg', 'kirmizi 853.jpg', 'kirmizi 822.jpg', 'kirmizi 51.jpg', 'kirmizi 53.jpg', 'kirmizi 732.jpg', 'kirmizi 204.jpg', 'kirmizi 917.jpg', 'kirmizi 612.jpg', 'kirmizi 869.jpg', 'kirmizi 1027.jpg', 'kirmizi 868.jpg', 'kirmizi 520.jpg', 'kirmizi 316.jpg', 'kirmizi 671.jpg', 'kirmizi 978.jpg', 'kirmizi 161.jpg', 'kirmizi 846.jpg', 'kirmizi 290.jpg', 'kirmizi 424.jpg', 'kirmizi 1087.jpg', 'kirmizi 540.jpg', 'kirmizi 130.jpg', 'kirmizi 410.jpg', 'kirmizi 292.jpg', 'kirmizi 820.jpg', 'kirmizi 916.jpg', 'kirmizi 1046.jpg', 'kirmizi 705.jpg', 'kirmizi 246.jpg', 'kirmizi 380.jpg', 'kirmizi 613.jpg', 'kirmizi 98.jpg', 'kirmizi 333.jpg', 'kirmizi 675.jpg', 'kirmizi 284.jpg', 'kirmizi 765.jpg', 'kirmizi 255.jpg', 'kirmizi 766.jpg', 'kirmizi 668.jpg', 'kirmizi 29.jpg', 'kirmizi 256.jpg', 'kirmizi 1082.jpg', 'kirmizi 662.jpg', 'kirmizi 350.jpg', 'kirmizi 493.jpg', 'kirmizi 610.jpg', 'kirmizi 108.jpg', 'kirmizi 81.jpg', 'kirmizi 233.jpg', 'kirmizi 409.jpg', 'kirmizi 503.jpg', 'kirmizi 89.jpg', 'kirmizi 701.jpg', 'kirmizi 810.jpg', 'kirmizi 669.jpg', 'kirmizi 1003.jpg', 'kirmizi 1137.jpg', 'kirmizi 1140.jpg', 'kirmizi 1070.jpg', 'kirmizi 267.jpg', 'kirmizi (32).jpg', 'kirmizi 694.jpg', 'kirmizi 841.jpg', 'kirmizi 802.jpg', 'kirmizi 43.jpg', 'kirmizi 892.jpg', 'kirmizi 195.jpg', 'kirmizi 1111.jpg', 'kirmizi 135.jpg', 'kirmizi 336.jpg', 'kirmizi 134.jpg', 'kirmizi 919.jpg', 'kirmizi 349.jpg', 'kirmizi 240.jpg', 'kirmizi 792.jpg', 'kirmizi 18.jpg', 'kirmizi 1156.jpg', 'kirmizi 1021.jpg', 'kirmizi (8).jpg', 'kirmizi 19.jpg', 'kirmizi (37).jpg', 'kirmizi 597.jpg', 'kirmizi 913.jpg', 'kirmizi 278.jpg', 'kirmizi (3).jpg', 'kirmizi 742.jpg', 'kirmizi 389.jpg', 'kirmizi 1009.jpg', 'kirmizi 62.jpg', 'kirmizi 1091.jpg', 'kirmizi 1029.jpg', 'kirmizi 156.jpg', 'kirmizi 147.jpg', 'kirmizi 948.jpg', 'kirmizi 878.jpg', 'kirmizi (34).jpg', 'kirmizi 392.jpg', 'kirmizi 754.jpg', 'kirmizi 995.jpg', 'kirmizi 263.jpg', 'kirmizi 339.jpg', 'kirmizi 756.jpg', 'kirmizi 549.jpg', 'kirmizi 749.jpg', 'kirmizi 795.jpg', 'kirmizi 768.jpg', 'kirmizi 547.jpg', 'kirmizi 494.jpg', 'kirmizi 949.jpg', 'kirmizi 825.jpg', 'kirmizi 615.jpg', 'kirmizi 962.jpg', 'kirmizi 11.jpg', 'kirmizi 24.jpg', 'kirmizi 354.jpg', 'kirmizi 1078.jpg', 'kirmizi (60).jpg', 'kirmizi 726.jpg', 'kirmizi 508.jpg', 'kirmizi 851.jpg', 'kirmizi 1034.jpg', 'kirmizi 1102.jpg', 'kirmizi 977.jpg', 'kirmizi 583.jpg', 'kirmizi 896.jpg', 'kirmizi 314.jpg', 'kirmizi 436.jpg', 'kirmizi 738.jpg', 'kirmizi 223.jpg', 'kirmizi 794.jpg', 'kirmizi 626.jpg', 'kirmizi 253.jpg', 'kirmizi 991.jpg', 'kirmizi 551.jpg', 'kirmizi 1089.jpg', 'kirmizi (63).jpg', 'kirmizi 309.jpg', 'kirmizi 92.jpg', 'kirmizi 585.jpg', 'kirmizi 666.jpg', 'kirmizi 780.jpg', 'kirmizi 106.jpg', 'kirmizi 679.jpg', 'kirmizi 659.jpg', 'kirmizi 260.jpg', 'kirmizi 661.jpg', 'kirmizi 734.jpg', 'kirmizi 1049.jpg', 'kirmizi 300.jpg', 'kirmizi 54.jpg', 'kirmizi 1093.jpg', 'kirmizi 425.jpg', 'kirmizi 1081.jpg', 'kirmizi (52).jpg', 'kirmizi (50).jpg', 'kirmizi 99.jpg', 'kirmizi (45).jpg', 'kirmizi 601.jpg', 'kirmizi 723.jpg', 'kirmizi 185.jpg', 'kirmizi (40).jpg', 'kirmizi 697.jpg', 'kirmizi 580.jpg', 'kirmizi 325.jpg', 'kirmizi 381.jpg', 'kirmizi 87.jpg', 'kirmizi 505.jpg', 'kirmizi 148.jpg', 'kirmizi 775.jpg', 'kirmizi (38).jpg', 'kirmizi 889.jpg', 'kirmizi 1004.jpg', 'kirmizi 925.jpg', 'kirmizi 606.jpg', 'kirmizi 731.jpg', 'kirmizi 968.jpg', 'kirmizi 1011.jpg', 'kirmizi 234.jpg', 'kirmizi 567.jpg', 'kirmizi 373.jpg', 'kirmizi 600.jpg', 'kirmizi 56.jpg', 'kirmizi 511.jpg', 'kirmizi 221.jpg', 'kirmizi 249.jpg', 'kirmizi 1066.jpg', 'kirmizi 954.jpg', 'kirmizi 771.jpg', 'kirmizi 475.jpg', 'kirmizi 689.jpg', 'kirmizi 788.jpg', 'kirmizi 422.jpg', 'kirmizi 151.jpg', 'kirmizi 741.jpg', 'kirmizi 496.jpg', 'kirmizi 252.jpg', 'kirmizi 317.jpg', 'kirmizi 880.jpg', 'kirmizi 177.jpg', 'kirmizi 1061.jpg', 'kirmizi 118.jpg', 'kirmizi 834.jpg', 'kirmizi 277.jpg', 'kirmizi 3.jpg', 'kirmizi 47.jpg', 'kirmizi 812.jpg', 'kirmizi 458.jpg', 'kirmizi 934.jpg', 'kirmizi (13).jpg', 'kirmizi 621.jpg', 'kirmizi (47).jpg', 'kirmizi 829.jpg', 'kirmizi 553.jpg', 'kirmizi 280.jpg', 'kirmizi 14.jpg', 'kirmizi 527.jpg', 'kirmizi 654.jpg', 'kirmizi 162.jpg', 'kirmizi 1002.jpg', 'kirmizi 672.jpg', 'kirmizi 499.jpg', 'kirmizi 219.jpg', 'kirmizi 371.jpg', 'kirmizi 1164.jpg', 'kirmizi 1129.jpg', 'kirmizi 1165.jpg', 'kirmizi 605.jpg', 'kirmizi 429.jpg', 'kirmizi 332.jpg', 'kirmizi (17).jpg', 'kirmizi 88.jpg', 'kirmizi 386.jpg', 'kirmizi 1099.jpg', 'kirmizi 509.jpg', 'kirmizi 614.jpg', 'kirmizi 830.jpg', 'kirmizi 882.jpg', 'kirmizi 984.jpg', 'kirmizi 1163.jpg', 'kirmizi 558.jpg', 'kirmizi 645.jpg', 'kirmizi 907.jpg', 'kirmizi 929.jpg', 'kirmizi 155.jpg', 'kirmizi 1041.jpg', 'kirmizi 198.jpg', 'kirmizi 885.jpg', 'kirmizi 783.jpg', 'kirmizi 1048.jpg', 'kirmizi 870.jpg', 'kirmizi 101.jpg', 'kirmizi 607.jpg', 'kirmizi 294.jpg', 'kirmizi 604.jpg', 'kirmizi 891.jpg', 'kirmizi 933.jpg', 'kirmizi 95.jpg', 'kirmizi 462.jpg', 'kirmizi 643.jpg', 'kirmizi 787.jpg', 'kirmizi 360.jpg', 'kirmizi 890.jpg', 'kirmizi 485.jpg', 'kirmizi 504.jpg', 'kirmizi 251.jpg', 'kirmizi 876.jpg', 'kirmizi 979.jpg', 'kirmizi 963.jpg', 'kirmizi 448.jpg', 'kirmizi 427.jpg', 'kirmizi (55).jpg', 'kirmizi 1028.jpg', 'kirmizi 464.jpg', 'kirmizi 324.jpg', 'kirmizi 803.jpg', 'kirmizi 637.jpg', 'kirmizi 1149.jpg', 'kirmizi 994.jpg', 'kirmizi 1157.jpg', 'kirmizi 137.jpg', 'kirmizi 843.jpg', 'kirmizi 1128.jpg', 'kirmizi 598.jpg', 'kirmizi 899.jpg', 'kirmizi 690.jpg', 'kirmizi 895.jpg', 'kirmizi 931.jpg', 'kirmizi 557.jpg', 'kirmizi 1056.jpg', 'kirmizi 807.jpg', 'kirmizi 770.jpg', 'kirmizi 939.jpg', 'kirmizi 1108.jpg', 'kirmizi 620.jpg', 'kirmizi 304.jpg', 'kirmizi 447.jpg', 'kirmizi 297.jpg', 'kirmizi 282.jpg', 'kirmizi 378.jpg', 'kirmizi 1055.jpg', 'kirmizi 84.jpg', 'kirmizi 28.jpg', 'kirmizi 69.jpg', 'kirmizi 633.jpg', 'kirmizi 521.jpg', 'kirmizi 225.jpg', 'kirmizi 258.jpg', 'kirmizi 469.jpg', 'kirmizi 565.jpg', 'kirmizi 528.jpg', 'kirmizi 704.jpg', 'kirmizi 368.jpg', 'kirmizi 989.jpg', 'kirmizi 441.jpg', 'kirmizi 191.jpg', 'kirmizi 231.jpg', 'kirmizi 64.jpg', 'kirmizi 957.jpg', 'kirmizi 763.jpg', 'kirmizi 79.jpg', 'kirmizi 241.jpg', 'kirmizi 1037.jpg', 'kirmizi 489.jpg', 'kirmizi 773.jpg', 'kirmizi 141.jpg', 'kirmizi 35.jpg', 'kirmizi 179.jpg', 'kirmizi 854.jpg', 'kirmizi 848.jpg', 'kirmizi 1144.jpg', 'kirmizi 799.jpg', 'kirmizi 158.jpg', 'kirmizi 77.jpg', 'kirmizi 406.jpg', 'kirmizi 132.jpg', 'kirmizi 1153.jpg', 'kirmizi 181.jpg', 'kirmizi 997.jpg', 'kirmizi 119.jpg', 'kirmizi 495.jpg', 'kirmizi 358.jpg', 'kirmizi 315.jpg', 'kirmizi 351.jpg', 'kirmizi 1096.jpg', 'kirmizi 872.jpg', 'kirmizi 390.jpg', 'kirmizi 114.jpg', 'kirmizi 577.jpg', 'kirmizi 881.jpg', 'kirmizi 1151.jpg', 'kirmizi 923.jpg', 'kirmizi 608.jpg', 'kirmizi 545.jpg', 'kirmizi 537.jpg', 'kirmizi 776.jpg', 'kirmizi 340.jpg', 'kirmizi 160.jpg', 'kirmizi 879.jpg', 'kirmizi 299.jpg', 'kirmizi 531.jpg', 'kirmizi 420.jpg', 'kirmizi 80.jpg', 'kirmizi 593.jpg', 'kirmizi 72.jpg', 'kirmizi 403.jpg', 'kirmizi 76.jpg', 'kirmizi 430.jpg', 'kirmizi 550.jpg', 'kirmizi 312.jpg', 'kirmizi 224.jpg', 'kirmizi 735.jpg', 'kirmizi 172.jpg', 'kirmizi 1062.jpg', 'kirmizi 211.jpg', 'kirmizi 960.jpg', 'kirmizi 388.jpg', 'kirmizi 970.jpg', 'kirmizi 31.jpg', 'kirmizi 1084.jpg', 'kirmizi 790.jpg', 'kirmizi 712.jpg', 'kirmizi 502.jpg', 'kirmizi 640.jpg', 'kirmizi 971.jpg', 'kirmizi 945.jpg', 'kirmizi 123.jpg', 'kirmizi 384.jpg', 'kirmizi 1050.jpg', 'kirmizi 471.jpg', 'kirmizi 323.jpg', 'kirmizi 308.jpg', 'kirmizi 265.jpg', 'kirmizi 572.jpg', 'kirmizi 6.jpg', 'kirmizi 500.jpg', 'kirmizi 283.jpg', 'kirmizi 326.jpg', 'kirmizi 347.jpg', 'kirmizi 110.jpg', 'kirmizi 334.jpg', 'kirmizi 285.jpg', 'kirmizi 986.jpg', 'kirmizi 915.jpg', 'kirmizi 655.jpg', 'kirmizi 530.jpg', 'kirmizi 402.jpg', 'kirmizi 647.jpg', 'kirmizi (20).jpg', 'kirmizi 650.jpg', 'kirmizi 139.jpg', 'kirmizi 478.jpg', 'kirmizi 356.jpg', 'kirmizi (14).jpg', 'kirmizi 397.jpg', 'kirmizi 826.jpg', 'kirmizi 951.jpg', 'kirmizi 961.jpg', 'kirmizi 793.jpg', 'kirmizi 65.jpg', 'kirmizi 714.jpg', 'kirmizi (11).jpg', 'kirmizi 556.jpg', 'kirmizi 228.jpg', 'kirmizi 154.jpg', 'kirmizi 275.jpg', 'kirmizi 592.jpg', 'kirmizi 229.jpg', 'kirmizi 760.jpg', 'kirmizi 433.jpg', 'kirmizi 456.jpg', 'kirmizi 1010.jpg', 'kirmizi 1059.jpg', 'kirmizi 774.jpg', 'kirmizi 311.jpg', 'kirmizi 1147.jpg', 'kirmizi 247.jpg', 'kirmizi 684.jpg', 'kirmizi 404.jpg', 'kirmizi 175.jpg', 'kirmizi 383.jpg', 'kirmizi 898.jpg', 'kirmizi 1012.jpg', 'kirmizi 52.jpg', 'kirmizi 331.jpg', 'kirmizi 472.jpg', 'kirmizi 335.jpg', 'kirmizi 764.jpg', 'kirmizi 863.jpg', 'kirmizi 680.jpg', 'kirmizi 102.jpg', 'kirmizi 514.jpg', 'kirmizi 41.jpg', 'kirmizi 736.jpg', 'kirmizi 874.jpg', 'kirmizi 800.jpg', 'kirmizi 602.jpg', 'kirmizi 320.jpg', 'kirmizi 1090.jpg', 'kirmizi 617.jpg', 'kirmizi 673.jpg', 'kirmizi 897.jpg', 'kirmizi 584.jpg', 'kirmizi 210.jpg', 'kirmizi 40.jpg', 'kirmizi 752.jpg', 'kirmizi (53).jpg', 'kirmizi 523.jpg', 'kirmizi 786.jpg', 'kirmizi 483.jpg', 'kirmizi 1159.jpg', 'kirmizi 1080.jpg', 'kirmizi 152.jpg', 'kirmizi 1124.jpg', 'kirmizi (19).jpg', 'kirmizi 97.jpg', 'kirmizi 639.jpg', 'kirmizi 974.jpg', 'kirmizi 616.jpg', 'kirmizi 1134.jpg', 'kirmizi 328.jpg', 'kirmizi 512.jpg', 'kirmizi 727.jpg', 'kirmizi 778.jpg', 'kirmizi 950.jpg', 'kirmizi 953.jpg', 'kirmizi 819.jpg', 'kirmizi 208.jpg', 'kirmizi 121.jpg', 'kirmizi 168.jpg', 'kirmizi 569.jpg', 'kirmizi 543.jpg', 'kirmizi 1092.jpg', 'kirmizi 924.jpg', 'kirmizi 624.jpg', 'kirmizi (23).jpg', 'kirmizi 71.jpg', 'kirmizi 737.jpg', 'kirmizi 1158.jpg', 'kirmizi (39).jpg', 'kirmizi 996.jpg', 'kirmizi 1023.jpg', 'kirmizi 1047.jpg', 'kirmizi 167.jpg', 'kirmizi 1121.jpg', 'kirmizi 719.jpg', 'kirmizi 96.jpg', 'kirmizi 307.jpg', 'kirmizi 352.jpg', 'kirmizi 927.jpg', 'kirmizi 866.jpg', 'kirmizi 91.jpg', 'kirmizi 22.jpg', 'kirmizi 248.jpg', 'kirmizi 564.jpg', 'kirmizi 1058.jpg', 'kirmizi 115.jpg', 'kirmizi 220.jpg', 'kirmizi 1064.jpg', 'kirmizi 274.jpg', 'kirmizi 468.jpg', 'kirmizi 817.jpg', 'kirmizi 442.jpg', 'kirmizi 517.jpg', 'kirmizi 337.jpg', 'kirmizi 303.jpg', 'kirmizi 988.jpg', 'kirmizi 142.jpg', 'kirmizi 276.jpg', 'kirmizi (57).jpg', 'kirmizi 357.jpg', 'kirmizi 10.jpg', 'kirmizi 1073.jpg', 'kirmizi 86.jpg', 'kirmizi 205.jpg', 'kirmizi 33.jpg', 'kirmizi 1008.jpg', 'kirmizi 149.jpg', 'kirmizi 302.jpg', 'kirmizi 1031.jpg', 'kirmizi 112.jpg', 'kirmizi 718.jpg', 'kirmizi 1100.jpg', 'kirmizi 656.jpg', 'kirmizi 140.jpg', 'kirmizi 1145.jpg', 'kirmizi 12.jpg', 'kirmizi 237.jpg', 'kirmizi 914.jpg', 'kirmizi 635.jpg', 'kirmizi (2).jpg', 'kirmizi 184.jpg', 'kirmizi 1044.jpg', 'kirmizi 1116.jpg', 'kirmizi 525.jpg', 'kirmizi 186.jpg', 'kirmizi 1107.jpg', 'kirmizi 782.jpg', 'kirmizi 632.jpg', 'kirmizi 1086.jpg', 'kirmizi 1043.jpg', 'kirmizi (33).jpg', 'kirmizi 720.jpg', 'kirmizi 105.jpg', 'kirmizi 1005.jpg', 'kirmizi 886.jpg', 'kirmizi 563.jpg', 'kirmizi 815.jpg', 'kirmizi 999.jpg', 'kirmizi 838.jpg', 'kirmizi 1114.jpg', 'kirmizi 94.jpg', 'kirmizi 1088.jpg', 'kirmizi 466.jpg', 'kirmizi 966.jpg', 'kirmizi 1143.jpg', 'kirmizi 244.jpg', 'kirmizi 39.jpg', 'kirmizi 901.jpg', 'kirmizi 1076.jpg', 'kirmizi 905.jpg', 'kirmizi (48).jpg', 'kirmizi 58.jpg', 'kirmizi 363.jpg', 'kirmizi 201.jpg', 'kirmizi 746.jpg', 'kirmizi 1127.jpg', 'kirmizi 1109.jpg', 'kirmizi 213.jpg', 'kirmizi 644.jpg', 'kirmizi 747.jpg', 'kirmizi 74.jpg', 'kirmizi 178.jpg', 'kirmizi 174.jpg', 'kirmizi 622.jpg', 'kirmizi 837.jpg', 'kirmizi 345.jpg', 'kirmizi 85.jpg', 'kirmizi 407.jpg', 'kirmizi 257.jpg', 'kirmizi 1148.jpg', 'kirmizi 536.jpg', 'kirmizi 488.jpg', 'kirmizi 524.jpg', 'kirmizi 27.jpg', 'kirmizi (6).jpg', 'kirmizi 710.jpg', 'kirmizi 129.jpg', 'kirmizi 1057.jpg', 'kirmizi 245.jpg', 'kirmizi 779.jpg']\n",
            "----------------------------------------\n",
            "Current Directory: /root/.cache/kagglehub/datasets/muratkokludataset/pistachio-image-dataset/versions/1/Pistachio_Image_Dataset/Pistachio_28_Features_Dataset\n",
            "Subdirectories: []\n",
            "Files: ['Pistachio_28_Features_Dataset.xlsx', 'Pistachio_28_Features_Dataset.arff', 'Pistachio_28_Features_Dataset_Citation_Request.txt', 'Pistachio_28_Features_Dataset.xls']\n",
            "----------------------------------------\n",
            "Current Directory: /root/.cache/kagglehub/datasets/muratkokludataset/pistachio-image-dataset/versions/1/Pistachio_Image_Dataset/Pistachio_16_Features_Dataset\n",
            "Subdirectories: []\n",
            "Files: ['Pistachio_16_Features_Dataset.xlsx', 'Pistachio_16_Features_Dataset.arff', 'Pistachio_16_Features_Dataset_Citation_Request.txt', 'Pistachio_16_Features_Dataset.xls']\n",
            "----------------------------------------\n"
          ]
        }
      ]
    },
    {
      "cell_type": "code",
      "source": [
        "with open(path+'/Pistachio_Image_Dataset/Pistachio_Image_Dataset/Pistachio_Image_Dataset_Request.txt', 'r') as file:\n",
        "    print(file.read())"
      ],
      "metadata": {
        "colab": {
          "base_uri": "https://localhost:8080/"
        },
        "id": "YfM03vKrVUxS",
        "outputId": "8d8a7493-785f-4de5-d2b7-8f7be0e96278",
        "collapsed": true
      },
      "execution_count": 5,
      "outputs": [
        {
          "output_type": "stream",
          "name": "stdout",
          "text": [
            "Citation Request :\n",
            "\n",
            "1. OZKAN IA., KOKLU M. and SARACOGLU R. (2021). Classification of Pistachio Species Using Improved K-NN Classifier. Progress in Nutrition, Vol. 23, N. 2, pp. DOI:10.23751/pn.v23i2.9686.  (Open Access) https://www.mattioli1885journals.com/index.php/progressinnutrition/article/view/9686/9178\n",
            "\n",
            "2. SINGH D, TASPINAR YS, KURSUN R, CINAR I, KOKLU M, OZKAN IA, LEE H-N., (2022). Classification and Analysis of Pistachio Species with Pre-Trained Deep Learning Models, Electronics, 11 (7), 981. https://doi.org/10.3390/electronics11070981. (Open Access) \n",
            "\n",
            "Article Download (PDF):\n",
            "1: https://www.mattioli1885journals.com/index.php/progressinnutrition/article/view/9686/9178\n",
            "2: https://doi.org/10.3390/electronics11070981\n",
            "\n",
            "DATASET: https://www.muratkoklu.com/datasets/\n",
            "\n",
            "ABSTRACT: In order to keep the economic value of pistachio nuts which have an important place in the agricultural economy, the efficiency of post-harvest industrial processes is very important. To provide this efficiency, new methods and technologies are needed for the separation and classification of pistachios. Different pistachio species address different markets, which increases the need for the classification of pistachio species. In this study, it is aimed to develop a classification model different from traditional separation methods, based on image processing and artificial intelligence which are capable to provide the required classification. A computer vision system has been developed to distinguish two different species of pistachios with different characteristics that address different market types. 2148 sample image for these two kinds of pistachios were taken with a high-resolution camera. The image processing techniques, segmentation and feature extraction were applied on the obtained images of the pistachio samples. A pistachio dataset that has sixteen attributes was created. An advanced classifier based on k-NN method, which is a simple and successful classifier, and principal component analysis was designed on the obtained dataset. In this study; a multi-level system including feature extraction, dimension reduction and dimension weighting stages has been proposed. Experimental results showed that the proposed approach achieved a classification success of 94.18%. The presented high-performance classification model provides an important need for the separation of pistachio species and increases the economic value of species. In addition, the developed model is important in terms of its application to similar studies. \n",
            "\n",
            "Keywords: Classification, Image processing, k nearest neighbor classifier, Pistachio species\n",
            "\n",
            "\n",
            "morphological Features (12 Features)\n",
            "1. Area\n",
            "2. Perimeter\n",
            "3. Major_Axis\n",
            "4. Minor_Axis\n",
            "5. Eccentricity\n",
            "6. Eqdiasq\n",
            "7. Solidity\n",
            "8. Convex_Area\n",
            "9. Extent\n",
            "10. Aspect_Ratio\n",
            "11. Roundness\n",
            "12. Compactness\n",
            "\n",
            "Shape Features (4 Features)\n",
            "13. Shapefactor_1\n",
            "14. Shapefactor_2\n",
            "15. Shapefactor_3\n",
            "16. Shapefactor_4\n",
            "\n",
            "Color Features (12 Features)\n",
            "17. Mean_RR\n",
            "18. Mean_RG\n",
            "19. Mean_RB\n",
            "20. StdDev_RR\n",
            "21. StdDev_RG\n",
            "22. StdDev_RB\n",
            "213. Skew_RR\n",
            "24. Skew_RG\n",
            "25. Skew_RB\n",
            "26. Kurtosis_RR\n",
            "27. Kurtosis_RG\n",
            "28. Kurtosis_RB\n",
            "\n",
            "29. Class\n",
            "\n",
            "\n",
            "\n",
            "\n",
            "2. SINGH D, TASPINAR YS, KURSUN R, CINAR I, KOKLU M, OZKAN IA, LEE H-N., (2022). Classification and Analysis of Pistachio Species with Pre-Trained Deep Learning Models, Electronics, 11 (7), 981. https://doi.org/10.3390/electronics11070981. (Open Access) \n",
            "\n",
            "ABSTRACT:  Pistachio is a shelled fruit from the anacardiaceae family. The homeland of pistachio is the Middle East. The Kirmizi pistachios and Siirt pistachios are the major types grown and exported in Turkey. Since the prices, tastes, and nutritional values of these types differs, the type of pistachio becomes important when it comes to trade. This study aims to identify these two types of pistachios, which are frequently grown in Turkey, by classifying them via convolutional neural networks. Within the scope of the study, images of Kirmizi and Siirt pistachio types were obtained through the computer vision system. The pre-trained dataset includes a total of 2148 images, 1232 of Kirmizi type and 916 of Siirt type. Three different convolutional neural network models were used to classify these images. Models were trained by using the transfer learning method, with AlexNet and the pre-trained models VGG16 and VGG19. The dataset is divided as 80% training and 20% test. As a result of the performed classifications, the success rates obtained from the AlexNet, VGG16, and VGG19 models are 94.42%, 98.84%, and 98.14%, respectively. Models’ performances were evaluated through sensitivity, specificity, precision, and F-1 score metrics. In addition, ROC curves and AUC values were used in the performance evaluation. The highest classification success was achieved with the VGG16 model. The obtained results reveal that these methods can be used successfully in the determination of pistachio types.\n",
            "\n",
            "Keywords: pistachio; genetic varieties; machine learning; deep learning; food recognition\n",
            "\n",
            "https://www.muratkoklu.com/datasets/\n",
            "\n"
          ]
        }
      ]
    },
    {
      "cell_type": "code",
      "source": [
        "data_path = path + '/Pistachio_Image_Dataset/Pistachio_Image_Dataset'\n",
        "data_path"
      ],
      "metadata": {
        "colab": {
          "base_uri": "https://localhost:8080/",
          "height": 35
        },
        "id": "Fc7VPXFuy1rH",
        "outputId": "5f234d76-b9ce-4fb1-ff55-a5c82a6a73fd"
      },
      "execution_count": 6,
      "outputs": [
        {
          "output_type": "execute_result",
          "data": {
            "text/plain": [
              "'/root/.cache/kagglehub/datasets/muratkokludataset/pistachio-image-dataset/versions/1/Pistachio_Image_Dataset/Pistachio_Image_Dataset'"
            ],
            "application/vnd.google.colaboratory.intrinsic+json": {
              "type": "string"
            }
          },
          "metadata": {},
          "execution_count": 6
        }
      ]
    },
    {
      "cell_type": "code",
      "source": [
        "import glob\n",
        "total_images = glob.glob(data_path + \"/**/*.jpg\")\n",
        "kirmizi_images = glob.glob(data_path + '/Kirmizi_Pistachio/*.jpg')\n",
        "siirt_images = glob.glob(data_path + '/Siirt_Pistachio/*.jpg')\n",
        "print(f'Total number of images: {len(total_images)}')\n",
        "print(f'Number of Kirmizi Pistachio: {len(kirmizi_images)}')\n",
        "print(f'Number of Siirt Pistachio: {len(siirt_images)}')"
      ],
      "metadata": {
        "colab": {
          "base_uri": "https://localhost:8080/"
        },
        "id": "q5pslAdiwXS1",
        "outputId": "2d96152c-7324-4763-c917-e0896a8b46f3"
      },
      "execution_count": 7,
      "outputs": [
        {
          "output_type": "stream",
          "name": "stdout",
          "text": [
            "Total number of images: 2148\n",
            "Number of Kirmizi Pistachio: 1232\n",
            "Number of Siirt Pistachio: 916\n"
          ]
        }
      ]
    },
    {
      "cell_type": "code",
      "source": [
        "import random\n",
        "import matplotlib.pyplot as plt\n",
        "from PIL import Image\n",
        "\n",
        "random_image = random.choice(total_images)\n",
        "img = Image.open(random_image)\n",
        "plt.figure(figsize=(3, 3))\n",
        "plt.axis('off')\n",
        "plt.imshow(img)\n",
        "plt.title(random_image.split('/')[-1])\n",
        "plt.show()"
      ],
      "metadata": {
        "colab": {
          "base_uri": "https://localhost:8080/",
          "height": 290
        },
        "id": "ns2mXnAT3g-0",
        "outputId": "3901a1c3-4c43-44a6-ea88-4a36ed5657f2"
      },
      "execution_count": 8,
      "outputs": [
        {
          "output_type": "display_data",
          "data": {
            "text/plain": [
              "<Figure size 300x300 with 1 Axes>"
            ],
            "image/png": "[encoded data removed]"
          },
          "metadata": {}
        }
      ]
    },
    {
      "cell_type": "markdown",
      "source": [
        "#Data Preprocessing"
      ],
      "metadata": {
        "id": "Gii6vPZ79igs"
      }
    },
    {
      "cell_type": "code",
      "source": [
        "from torch.utils.data import Dataset\n",
        "\n",
        "class PistachioDataset(Dataset):\n",
        "  def __init__(self, root_dir, transform=None):\n",
        "    self.root_dir = root_dir\n",
        "    self.transform = transform\n",
        "    self.image_paths = []\n",
        "    self.labels = []\n",
        "    self.classes = [d for d in os.listdir(root_dir) if os.path.isdir(os.path.join(root_dir, d))]\n",
        "    self.label_dict = {idx:label for idx,label in enumerate(self.classes)} # {0:Kirmizi_Pistachio, 1:Siirt_Pistachio}\n",
        "\n",
        "    for idx, label in self.label_dict.items():\n",
        "      class_dir = os.path.join(root_dir, label)\n",
        "      for file in os.listdir(class_dir):\n",
        "        if file.lower().endswith(('.jpg', '.jpeg', '.png')):\n",
        "          self.image_paths.append(os.path.join(class_dir, file))\n",
        "          self.labels.append(idx)\n",
        "\n",
        "  def __len__(self):\n",
        "    return len(self.labels)\n",
        "\n",
        "\n",
        "  def __getitem__(self, idx):\n",
        "    image = Image.open(self.image_paths[idx]).convert(\"RGB\")\n",
        "    label = self.labels[idx]\n",
        "    if self.transform:\n",
        "      image = self.transform(image)\n",
        "    return image, label"
      ],
      "metadata": {
        "id": "ygcvzKuPE0iO"
      },
      "execution_count": 9,
      "outputs": []
    },
    {
      "cell_type": "code",
      "source": [
        "from torchvision import transforms\n",
        "\n",
        "transform = transforms.Compose([\n",
        "    transforms.Resize((32, 32)),\n",
        "    transforms.ToTensor(),         # Convert to PyTorch tensor\n",
        "    transforms.Normalize(mean=[0.5, 0.5, 0.5], std=[0.5, 0.5, 0.5])  # Normalize to [-1, 1]\n",
        "])"
      ],
      "metadata": {
        "id": "TgRjxsLOIUs2"
      },
      "execution_count": 10,
      "outputs": []
    },
    {
      "cell_type": "code",
      "source": [
        "from torch.utils.data import DataLoader, random_split\n",
        "\n",
        "dataset = PistachioDataset(root_dir=data_path, transform=transform)\n",
        "\n",
        "# Split dataset into train and test sets (80% train, 20% test)\n",
        "train_size = int(0.8 * len(dataset))\n",
        "test_size = len(dataset) - train_size\n",
        "train_dataset, test_dataset = random_split(dataset, [train_size, test_size])\n",
        "\n",
        "print(f\"Total images: {len(dataset)}\")\n",
        "print(f\"Training set size: {len(train_dataset)}\")\n",
        "print(f\"Testing set size: {len(test_dataset)}\")"
      ],
      "metadata": {
        "colab": {
          "base_uri": "https://localhost:8080/"
        },
        "id": "sehCrM0s9sNs",
        "outputId": "f7b06cc3-3ec1-4061-9a0a-1a2709f869bb"
      },
      "execution_count": 11,
      "outputs": [
        {
          "output_type": "stream",
          "name": "stdout",
          "text": [
            "Total images: 2148\n",
            "Training set size: 1718\n",
            "Testing set size: 430\n"
          ]
        }
      ]
    },
    {
      "cell_type": "code",
      "source": [
        "# Define batch size\n",
        "batch_size = 16\n",
        "\n",
        "# Create data loaders\n",
        "train_loader = DataLoader(train_dataset, batch_size=batch_size, shuffle=True)\n",
        "test_loader = DataLoader(test_dataset, batch_size=batch_size, shuffle=False)"
      ],
      "metadata": {
        "id": "bwwtwGl3_874"
      },
      "execution_count": 12,
      "outputs": []
    },
    {
      "cell_type": "code",
      "source": [
        "for batch_idx, (images, labels) in enumerate(train_loader):\n",
        "    print(f\"Batch {batch_idx + 1}:\")\n",
        "    print(f\"Images shape: {images.shape}\")  # Shape of the image tensor\n",
        "    print(f\"Labels shape: {labels.shape}\")  # Shape of the label tensor\n",
        "    print(f\"Images data type: {images.dtype}\")\n",
        "    print(f\"Labels data type: {labels.dtype}\")\n",
        "    print(f\"First image tensor:\\n{images[0]}\")\n",
        "    print(f\"First label tensor: {labels[0]}\")\n",
        "    break  # Break after the first batch to avoid excessive output"
      ],
      "metadata": {
        "colab": {
          "base_uri": "https://localhost:8080/"
        },
        "id": "g4JVQgeQHfG_",
        "outputId": "1c203910-1c36-4565-e925-8bed9c57f869"
      },
      "execution_count": 13,
      "outputs": [
        {
          "output_type": "stream",
          "name": "stdout",
          "text": [
            "Batch 1:\n",
            "Images shape: torch.Size([16, 3, 32, 32])\n",
            "Labels shape: torch.Size([16])\n",
            "Images data type: torch.float32\n",
            "Labels data type: torch.int64\n",
            "First image tensor:\n",
            "tensor([[[-1., -1., -1.,  ..., -1., -1., -1.],\n",
            "         [-1., -1., -1.,  ..., -1., -1., -1.],\n",
            "         [-1., -1., -1.,  ..., -1., -1., -1.],\n",
            "         ...,\n",
            "         [-1., -1., -1.,  ..., -1., -1., -1.],\n",
            "         [-1., -1., -1.,  ..., -1., -1., -1.],\n",
            "         [-1., -1., -1.,  ..., -1., -1., -1.]],\n",
            "\n",
            "        [[-1., -1., -1.,  ..., -1., -1., -1.],\n",
            "         [-1., -1., -1.,  ..., -1., -1., -1.],\n",
            "         [-1., -1., -1.,  ..., -1., -1., -1.],\n",
            "         ...,\n",
            "         [-1., -1., -1.,  ..., -1., -1., -1.],\n",
            "         [-1., -1., -1.,  ..., -1., -1., -1.],\n",
            "         [-1., -1., -1.,  ..., -1., -1., -1.]],\n",
            "\n",
            "        [[-1., -1., -1.,  ..., -1., -1., -1.],\n",
            "         [-1., -1., -1.,  ..., -1., -1., -1.],\n",
            "         [-1., -1., -1.,  ..., -1., -1., -1.],\n",
            "         ...,\n",
            "         [-1., -1., -1.,  ..., -1., -1., -1.],\n",
            "         [-1., -1., -1.,  ..., -1., -1., -1.],\n",
            "         [-1., -1., -1.,  ..., -1., -1., -1.]]])\n",
            "First label tensor: 1\n"
          ]
        }
      ]
    },
    {
      "cell_type": "markdown",
      "source": [
        "###CNN Model"
      ],
      "metadata": {
        "id": "r7_UKsfwES1T"
      }
    },
    {
      "cell_type": "code",
      "source": [
        "from torch import nn\n",
        "\n",
        "class Pistachio(nn.Module):\n",
        "  def __init__(self):\n",
        "    super().__init__()\n",
        "    self.layer_stack = nn.Sequential(\n",
        "        nn.Conv2d(3, 64, kernel_size=3, padding=1), # keep the image size (32*32)\n",
        "        nn.BatchNorm2d(64),\n",
        "        nn.ReLU(),\n",
        "        nn.MaxPool2d(2, 2), # decrease image size to (16*16)\n",
        "        nn.Conv2d(64, 128, kernel_size=3, padding=1),\n",
        "        nn.BatchNorm2d(128),\n",
        "        nn.ReLU(),\n",
        "        nn.MaxPool2d(2, 2),\n",
        "        nn.Flatten(),\n",
        "        nn.Linear(128*8*8, 256),\n",
        "        nn.BatchNorm1d(256),\n",
        "        nn.ReLU(),\n",
        "        nn.Dropout(0.5),\n",
        "        nn.Linear(256, 1)\n",
        "    )\n",
        "  def forward(self, x):\n",
        "    return self.layer_stack(x)\n",
        "\n",
        "model = Pistachio().to(device)"
      ],
      "metadata": {
        "id": "Br_a8-1ZEcKn"
      },
      "execution_count": 24,
      "outputs": []
    },
    {
      "cell_type": "code",
      "source": [
        "def accuracy_fu(y_pred, y_true):\n",
        "  correct = torch.eq(y_pred,y_true).sum().item()\n",
        "  return correct / len(y_pred) * 100"
      ],
      "metadata": {
        "id": "ZkubhixMMhvn"
      },
      "execution_count": 25,
      "outputs": []
    },
    {
      "cell_type": "code",
      "source": [
        "loss_fn = nn.BCEWithLogitsLoss()\n",
        "optimizer = torch.optim.Adam(params=model.parameters(), lr=.001)"
      ],
      "metadata": {
        "id": "rnrOBP1-MiUl"
      },
      "execution_count": 26,
      "outputs": []
    },
    {
      "cell_type": "code",
      "source": [
        "# initialize metric\n",
        "!pip install torchmetrics\n",
        "import torchmetrics\n",
        "metric = torchmetrics.classification.BinaryAccuracy().to(device)"
      ],
      "metadata": {
        "colab": {
          "base_uri": "https://localhost:8080/"
        },
        "id": "VYWaKQfKW1Jr",
        "outputId": "e4f27185-8938-43c1-a482-34e211a2b2f0"
      },
      "execution_count": 27,
      "outputs": [
        {
          "output_type": "stream",
          "name": "stdout",
          "text": [
            "Requirement already satisfied: torchmetrics in /usr/local/lib/python3.11/dist-packages (1.6.1)\n",
            "Requirement already satisfied: numpy>1.20.0 in /usr/local/lib/python3.11/dist-packages (from torchmetrics) (1.26.4)\n",
            "Requirement already satisfied: packaging>17.1 in /usr/local/lib/python3.11/dist-packages (from torchmetrics) (24.2)\n",
            "Requirement already satisfied: torch>=2.0.0 in /usr/local/lib/python3.11/dist-packages (from torchmetrics) (2.5.1+cu121)\n",
            "Requirement already satisfied: lightning-utilities>=0.8.0 in /usr/local/lib/python3.11/dist-packages (from torchmetrics) (0.11.9)\n",
            "Requirement already satisfied: setuptools in /usr/local/lib/python3.11/dist-packages (from lightning-utilities>=0.8.0->torchmetrics) (75.1.0)\n",
            "Requirement already satisfied: typing-extensions in /usr/local/lib/python3.11/dist-packages (from lightning-utilities>=0.8.0->torchmetrics) (4.12.2)\n",
            "Requirement already satisfied: filelock in /usr/local/lib/python3.11/dist-packages (from torch>=2.0.0->torchmetrics) (3.16.1)\n",
            "Requirement already satisfied: networkx in /usr/local/lib/python3.11/dist-packages (from torch>=2.0.0->torchmetrics) (3.4.2)\n",
            "Requirement already satisfied: jinja2 in /usr/local/lib/python3.11/dist-packages (from torch>=2.0.0->torchmetrics) (3.1.5)\n",
            "Requirement already satisfied: fsspec in /usr/local/lib/python3.11/dist-packages (from torch>=2.0.0->torchmetrics) (2024.10.0)\n",
            "Requirement already satisfied: nvidia-cuda-nvrtc-cu12==12.1.105 in /usr/local/lib/python3.11/dist-packages (from torch>=2.0.0->torchmetrics) (12.1.105)\n",
            "Requirement already satisfied: nvidia-cuda-runtime-cu12==12.1.105 in /usr/local/lib/python3.11/dist-packages (from torch>=2.0.0->torchmetrics) (12.1.105)\n",
            "Requirement already satisfied: nvidia-cuda-cupti-cu12==12.1.105 in /usr/local/lib/python3.11/dist-packages (from torch>=2.0.0->torchmetrics) (12.1.105)\n",
            "Requirement already satisfied: nvidia-cudnn-cu12==9.1.0.70 in /usr/local/lib/python3.11/dist-packages (from torch>=2.0.0->torchmetrics) (9.1.0.70)\n",
            "Requirement already satisfied: nvidia-cublas-cu12==12.1.3.1 in /usr/local/lib/python3.11/dist-packages (from torch>=2.0.0->torchmetrics) (12.1.3.1)\n",
            "Requirement already satisfied: nvidia-cufft-cu12==11.0.2.54 in /usr/local/lib/python3.11/dist-packages (from torch>=2.0.0->torchmetrics) (11.0.2.54)\n",
            "Requirement already satisfied: nvidia-curand-cu12==10.3.2.106 in /usr/local/lib/python3.11/dist-packages (from torch>=2.0.0->torchmetrics) (10.3.2.106)\n",
            "Requirement already satisfied: nvidia-cusolver-cu12==11.4.5.107 in /usr/local/lib/python3.11/dist-packages (from torch>=2.0.0->torchmetrics) (11.4.5.107)\n",
            "Requirement already satisfied: nvidia-cusparse-cu12==12.1.0.106 in /usr/local/lib/python3.11/dist-packages (from torch>=2.0.0->torchmetrics) (12.1.0.106)\n",
            "Requirement already satisfied: nvidia-nccl-cu12==2.21.5 in /usr/local/lib/python3.11/dist-packages (from torch>=2.0.0->torchmetrics) (2.21.5)\n",
            "Requirement already satisfied: nvidia-nvtx-cu12==12.1.105 in /usr/local/lib/python3.11/dist-packages (from torch>=2.0.0->torchmetrics) (12.1.105)\n",
            "Requirement already satisfied: triton==3.1.0 in /usr/local/lib/python3.11/dist-packages (from torch>=2.0.0->torchmetrics) (3.1.0)\n",
            "Requirement already satisfied: sympy==1.13.1 in /usr/local/lib/python3.11/dist-packages (from torch>=2.0.0->torchmetrics) (1.13.1)\n",
            "Requirement already satisfied: nvidia-nvjitlink-cu12 in /usr/local/lib/python3.11/dist-packages (from nvidia-cusolver-cu12==11.4.5.107->torch>=2.0.0->torchmetrics) (12.6.85)\n",
            "Requirement already satisfied: mpmath<1.4,>=1.1.0 in /usr/local/lib/python3.11/dist-packages (from sympy==1.13.1->torch>=2.0.0->torchmetrics) (1.3.0)\n",
            "Requirement already satisfied: MarkupSafe>=2.0 in /usr/local/lib/python3.11/dist-packages (from jinja2->torch>=2.0.0->torchmetrics) (3.0.2)\n"
          ]
        }
      ]
    },
    {
      "cell_type": "code",
      "source": [
        "epoches = 5\n",
        "\n",
        "for epoch in range(epoches):\n",
        "  model.train()\n",
        "  train_loss = 0.0\n",
        "  for X_train, y_train in train_loader:\n",
        "    X_train, y_train = X_train.to(device), y_train.to(device)\n",
        "    y_logits = model(X_train).squeeze()\n",
        "    loss = loss_fn(y_logits, y_train.float())\n",
        "\n",
        "    optimizer.zero_grad()\n",
        "    loss.backward()\n",
        "    optimizer.step()\n",
        "    train_loss += loss.item()\n",
        "\n",
        "  model.eval()\n",
        "  test_loss = 0.0\n",
        "  with torch.inference_mode():\n",
        "    test_loss = 0.0\n",
        "    for X_test, y_test in test_loader:\n",
        "      X_test, y_test = X_test.to(device), y_test.to(device)\n",
        "      test_logits = model(X_test).squeeze()\n",
        "      loss = loss_fn(test_logits, y_test.float())\n",
        "      test_pred = torch.round(torch.sigmoid(test_logits))\n",
        "      test_acc = accuracy_fu(y_pred=test_pred, y_true=y_test)\n",
        "      test_loss += loss.item()\n",
        "      acc = metric(test_pred, y_test)\n",
        "    acc = metric.compute()\n",
        "    print(f'epoch: {epoch}, train_loss: {train_loss:.2f}, test loss: {test_loss:.2f}, test accuracy: {acc:.4f}')"
      ],
      "metadata": {
        "colab": {
          "base_uri": "https://localhost:8080/"
        },
        "id": "4X1zoiZqNhz3",
        "outputId": "550f7c8f-7e4d-470f-b7e7-d9722534ba43"
      },
      "execution_count": 28,
      "outputs": [
        {
          "output_type": "stream",
          "name": "stdout",
          "text": [
            "epoch: 0, train_loss: 40.72, test loss: 10.16, test accuracy: 0.8279069662094116\n",
            "epoch: 1, train_loss: 34.31, test loss: 8.64, test accuracy: 0.8430232405662537\n",
            "epoch: 2, train_loss: 32.62, test loss: 7.38, test accuracy: 0.8573643565177917\n",
            "epoch: 3, train_loss: 29.89, test loss: 9.69, test accuracy: 0.8529070019721985\n",
            "epoch: 4, train_loss: 27.16, test loss: 6.76, test accuracy: 0.8651162981987\n"
          ]
        }
      ]
    }
  ]
}